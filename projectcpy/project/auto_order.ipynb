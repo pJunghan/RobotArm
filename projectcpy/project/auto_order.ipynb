{
 "cells": [
  {
   "cell_type": "code",
   "execution_count": 1,
   "metadata": {},
   "outputs": [
    {
     "name": "stderr",
     "output_type": "stream",
     "text": [
      "/usr/lib/python3/dist-packages/scipy/__init__.py:146: UserWarning: A NumPy version >=1.17.3 and <1.25.0 is required for this version of SciPy (detected version 1.26.4\n",
      "  warnings.warn(f\"A NumPy version >={np_minversion} and <{np_maxversion}\"\n"
     ]
    },
    {
     "data": {
      "image/png": "[encoded data removed]",
      "text/plain": [
       "<PIL.PngImagePlugin.PngImageFile image mode=RGBA size=100x100 at 0x7E20C0B0BDF0>"
      ]
     },
     "metadata": {},
     "output_type": "display_data"
    },
    {
     "name": "stdout",
     "output_type": "stream",
     "text": [
      "날씨 : 박무\n",
      "온도 : 23.76 ℃\n",
      "판매량 예측:  0.9544097632628548\n"
     ]
    }
   ],
   "source": [
    "import requests\n",
    "import json\n",
    "import pickle\n",
    "import pymysql\n",
    "from config import db_config  # config.py에서 db_config 가져오기\n",
    "from datetime import datetime  # 요일 정보를 가져오기 위해 추가\n",
    "\n",
    "# Constants\n",
    "city = \"Seoul\"\n",
    "apikey = \"c1f6c98d79482985f66c26c037fe666a\"\n",
    "lang = \"kr\"\n",
    "api = f\"https://api.openweathermap.org/data/2.5/weather?q={city}&appid={apikey}&lang={lang}&units=metric\"\n",
    "\n",
    "try:\n",
    "    # API 요청\n",
    "    result = requests.get(api)\n",
    "    result.raise_for_status()  # 잘못된 응답에 대해 예외 발생\n",
    "    data = json.loads(result.text)\n",
    "\n",
    "    if data[\"cod\"] == 200:\n",
    "        temperature = data['main']['temp']\n",
    "        weather_description = data['weather'][0]['description']\n",
    "        \n",
    "        # 선형 회귀 모델 로드\n",
    "        with open('linear_regression_model.pkl', 'rb') as file:\n",
    "            loaded_model = pickle.load(file)\n",
    "\n",
    "        # 테스트 데이터 준비\n",
    "        x_test = [[temperature]]\n",
    "        predictions = loaded_model.predict(x_test)\n",
    "        predicted_sales = predictions[0][0] / 58.11\n",
    "\n",
    "        # 요일 정보 가져오기\n",
    "        current_weekday = datetime.now().weekday()  # 월요일=0, ..., 일요일=6\n",
    "\n",
    "        # 요일에 따라 predicted_sales 조정\n",
    "        if current_weekday in [0, 1, 2, 3]:  # 월~목\n",
    "            predicted_sales *= 1\n",
    "        elif current_weekday in [4, 5]:  # 금, 토\n",
    "            predicted_sales *= 2\n",
    "        elif current_weekday == 6:  # 일요일\n",
    "            predicted_sales *= 1.5\n",
    "\n",
    "        # 날씨 정보 저장\n",
    "        weather_info = f\"{weather_description}: {temperature}\"\n",
    "        \n",
    "        # 데이터베이스에 연결\n",
    "        conn = pymysql.connect(**db_config)\n",
    "        with conn.cursor() as cursor:\n",
    "            # inventory_management_table의 정보를 불러옴\n",
    "            select_query = \"SELECT * FROM inventory_management_table WHERE DATE(date_time) = CURDATE()\"\n",
    "            cursor.execute(select_query)\n",
    "            inventory_result = cursor.fetchone()\n",
    "\n",
    "            # 불러온 재고 정보 처리\n",
    "            if inventory_result:\n",
    "                flavor1 = inventory_result['flavor1'] * predicted_sales\n",
    "                flavor2 = inventory_result['flavor2']\n",
    "                flavor3 = inventory_result['flavor3']\n",
    "                topping1 = inventory_result['topping1']\n",
    "                topping2 = inventory_result['topping2']\n",
    "                topping3 = inventory_result['topping3']\n",
    "\n",
    "                rec_flavor1 = flavor1 * predicted_sales\n",
    "                rec_flavor2 = flavor2 * predicted_sales\n",
    "                rec_flavor3 = flavor3 * predicted_sales\n",
    "                rec_topping1 = topping1 * predicted_sales\n",
    "                rec_topping2 = topping2 * predicted_sales\n",
    "                rec_topping3 = topping3 * predicted_sales\n",
    "            # 주문 정보를 삽입\n",
    "            insert_query = \"\"\"\n",
    "                INSERT INTO order_management_table (choco_order, vanila_order, strawberry_order, topping1_order, topping2_order, topping3_order, weather)\n",
    "                VALUES (%s, %s, %s, %s, %s, %s, %s)\n",
    "            \"\"\"\n",
    "            cursor.execute(insert_query, (rec_flavor1, rec_flavor2, rec_flavor3, rec_topping1, rec_topping2, rec_topping3, weather_info))\n",
    "            conn.commit()  # 변경사항 커밋\n",
    "\n",
    "except requests.exceptions.RequestException as e:\n",
    "    print(f\"API 요청 실패: {e}\")\n",
    "except Exception as e:\n",
    "    print(f\"오류 발생: {e}\")\n",
    "finally:\n",
    "    if 'conn' in locals() and conn.open:\n",
    "        conn.close()  # 데이터베이스 연결 닫기\n"
   ]
  },
  {
   "cell_type": "code",
   "execution_count": null,
   "metadata": {},
   "outputs": [],
   "source": []
  }
 ],
 "metadata": {
  "kernelspec": {
   "display_name": "Python 3",
   "language": "python",
   "name": "python3"
  },
  "language_info": {
   "codemirror_mode": {
    "name": "ipython",
    "version": 3
   },
   "file_extension": ".py",
   "mimetype": "text/x-python",
   "name": "python",
   "nbconvert_exporter": "python",
   "pygments_lexer": "ipython3",
   "version": "3.10.12"
  }
 },
 "nbformat": 4,
 "nbformat_minor": 2
}
